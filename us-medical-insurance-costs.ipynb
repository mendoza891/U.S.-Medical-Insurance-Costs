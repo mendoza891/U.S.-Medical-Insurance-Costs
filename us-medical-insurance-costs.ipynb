{
 "cells": [
  {
   "cell_type": "markdown",
   "metadata": {},
   "source": [
    "# U.S. Medical Insurance Costs"
   ]
  },
  {
   "cell_type": "markdown",
   "metadata": {},
   "source": [
    "By: Abraham Mendoza, Completed on: \n",
    "Reach me at: mendoabr@oregonstate.edu"
   ]
  },
  {
   "cell_type": "markdown",
   "metadata": {},
   "source": [
    "# What to Analyze\n",
    "- Average age\n",
    "- Average BMI\n",
    "- Average Charges\n",
    "- Where the majority of individuals are from\n",
    "- Look at different costs between smoker vs non-smoker\n",
    "\n",
    "Things to include:\n",
    "- Goals\n",
    "- Data\n",
    "- Analysis"
   ]
  },
  {
   "cell_type": "markdown",
   "metadata": {},
   "source": [
    "# Goals\n",
    "\n",
    "The aim of this project is to find out the following information:\n",
    "- Average age\n",
    "- Average BMI\n",
    "- Average Charges\n",
    "- Where the majority of individuals are from\n",
    "- Look at different costs between smoker vs non-smoker"
   ]
  },
  {
   "cell_type": "markdown",
   "metadata": {},
   "source": [
    "# Importing Data & Creating Temporary Variables"
   ]
  },
  {
   "cell_type": "code",
   "execution_count": 96,
   "metadata": {},
   "outputs": [],
   "source": [
    "import csv\n",
    "import pandas\n",
    "\n",
    "age = []\n",
    "sex = []\n",
    "bmi = []\n",
    "children = []\n",
    "smoker = []\n",
    "region = []\n",
    "charges = []\n",
    "\n",
    "with open('insurance.csv') as insurance_data:\n",
    "    data = csv.reader(insurance_data, delimiter = \",\")\n",
    "    \n",
    "    for dataline in data:\n",
    "        age.append(dataline[0])\n",
    "        sex.append(dataline[1])\n",
    "        bmi.append(dataline[2])\n",
    "        children.append(dataline[3])\n",
    "        smoker.append(dataline[4])\n",
    "        region.append(dataline[5])\n",
    "        charges.append(dataline[6])"
   ]
  },
  {
   "cell_type": "markdown",
   "metadata": {},
   "source": [
    "# Data Variables"
   ]
  },
  {
   "cell_type": "markdown",
   "metadata": {},
   "source": [
    "We update the previous variables to not include the first entry which is the label for the column."
   ]
  },
  {
   "cell_type": "code",
   "execution_count": 97,
   "metadata": {
    "scrolled": true
   },
   "outputs": [],
   "source": [
    "age_updated = age[1:]\n",
    "sex_updated = sex[1:]\n",
    "bmi_updated = bmi[1:]\n",
    "children_updated = children[1:]\n",
    "smoker_updated = smoker[1:]\n",
    "region_updated = region[1:]\n",
    "charges_updated = charges[1:]"
   ]
  },
  {
   "cell_type": "markdown",
   "metadata": {},
   "source": [
    "# Average Age"
   ]
  },
  {
   "cell_type": "markdown",
   "metadata": {},
   "source": [
    "We first look into obtaining the general age of all data that was recorded."
   ]
  },
  {
   "cell_type": "code",
   "execution_count": 98,
   "metadata": {},
   "outputs": [
    {
     "name": "stdout",
     "output_type": "stream",
     "text": [
      "Mean Age is: 39.21 Years\n"
     ]
    }
   ],
   "source": [
    "#Created a function that will return the mean age from a list of ages\n",
    "def mean_finder(age_list):\n",
    "    sum_ages = 0\n",
    "    for age in age_list:\n",
    "        sum_ages += int(age)\n",
    "    return sum_ages / len(age_list)\n",
    "#We use function to find mean age for all participants\n",
    "\n",
    "mean_age = round(mean_finder(age_updated), 2)\n",
    "print(\"Mean Age is: \" + str(mean_age) + \" Years\")\n",
    "        "
   ]
  },
  {
   "cell_type": "markdown",
   "metadata": {},
   "source": [
    "# Average BMI\n",
    "We obtain the average BMI with a similar function as created to find mean age."
   ]
  },
  {
   "cell_type": "code",
   "execution_count": 99,
   "metadata": {},
   "outputs": [
    {
     "name": "stdout",
     "output_type": "stream",
     "text": [
      "Mean BMI is: 30.66\n"
     ]
    }
   ],
   "source": [
    "def mean_bmi_finder(bmi_list):\n",
    "    sum_bmi = 0\n",
    "    for bmi in bmi_list:\n",
    "        sum_bmi += float(bmi)\n",
    "    return sum_bmi / len(bmi_list)\n",
    "\n",
    "mean_bmi = round((mean_bmi_finder(bmi_updated)), 2)\n",
    "print(\"Mean BMI is: \" + str(mean_bmi))"
   ]
  },
  {
   "cell_type": "markdown",
   "metadata": {},
   "source": [
    "# Average Charges"
   ]
  },
  {
   "cell_type": "code",
   "execution_count": 100,
   "metadata": {},
   "outputs": [
    {
     "name": "stdout",
     "output_type": "stream",
     "text": [
      "Mean Charges is: $13270.42\n"
     ]
    }
   ],
   "source": [
    "def mean_charges_finder(charges_list):\n",
    "    sum_charges = 0\n",
    "    for charge in charges_list:\n",
    "        sum_charges += float(charge)\n",
    "    return sum_charges/len(charges_list)\n",
    "mean_charges = round(mean_charges_finder(charges_updated), 2)\n",
    "print(\"Mean Charges is: $\" + str(mean_charges))"
   ]
  },
  {
   "cell_type": "markdown",
   "metadata": {},
   "source": [
    "# Where are the Majority of Individuals From\n",
    "We create a function that will spit out the location where the majority of individuasl are from. The function will be coded where we are able to find out exactly the amount of individuals in each region."
   ]
  },
  {
   "cell_type": "code",
   "execution_count": 101,
   "metadata": {},
   "outputs": [
    {
     "name": "stdout",
     "output_type": "stream",
     "text": [
      "The majority of individuals are from: the southeast\n"
     ]
    }
   ],
   "source": [
    "def location_counter(location_list):\n",
    "    location_dict = {}\n",
    "    highest_location_count = 0\n",
    "    highest_location = \"\"\n",
    "    \n",
    "    \n",
    "    for location in location_list:\n",
    "        if location not in location_dict.keys():\n",
    "            location_dict[location] = 1\n",
    "        else:\n",
    "            location_dict[location] += 1\n",
    "    \n",
    "    for key,value in location_dict.items():\n",
    "        if value > highest_location_count:\n",
    "            highest_location_count = value\n",
    "            highest_location = key\n",
    "    \n",
    "    return highest_location\n",
    "            \n",
    "    \n",
    "    \n",
    "majority_region = location_counter(region_updated)\n",
    "print(\"The majority of individuals are from: the \" + majority_region)"
   ]
  },
  {
   "cell_type": "markdown",
   "metadata": {},
   "source": [
    "# Comparing Costs Between Smokers and Non-Smokers\n",
    "We will compare the average costs between an individual who is a smoker and an individual who is a non-smoker."
   ]
  },
  {
   "cell_type": "code",
   "execution_count": 102,
   "metadata": {},
   "outputs": [
    {
     "name": "stdout",
     "output_type": "stream",
     "text": [
      "Smoker |  Non-Smoker |  Difference\n"
     ]
    },
    {
     "data": {
      "text/plain": [
       "(32050.23, 8434.27, 23615.96)"
      ]
     },
     "execution_count": 102,
     "metadata": {},
     "output_type": "execute_result"
    }
   ],
   "source": [
    "def smoker_status_coster(smoker_updated, charges_updated):\n",
    "    smoker_cost = 0\n",
    "    smoker_count = 0\n",
    "    non_smoker_cost = 0\n",
    "    non_smoker_count = 0\n",
    "    for i in range(0, len(smoker_updated)):\n",
    "        if smoker_updated[i] == 'yes':\n",
    "            smoker_cost += float(charges_updated[i])\n",
    "            smoker_count += 1\n",
    "        elif smoker_updated[i] == 'no':\n",
    "            non_smoker_cost += float(charges_updated[i])\n",
    "            non_smoker_count += 1\n",
    "    avg_smoker_cost = round(smoker_cost/smoker_count, 2)\n",
    "    avg_nonsmoker_cost = round(non_smoker_cost/non_smoker_count, 2)\n",
    "    difference = avg_smoker_cost - avg_nonsmoker_cost\n",
    "    print(\"Smoker | \", \"Non-Smoker | \", \"Difference\")\n",
    "    return avg_smoker_cost, avg_nonsmoker_cost, difference\n",
    "\n",
    "smoker_status_coster(smoker_updated, charges_updated)\n"
   ]
  },
  {
   "cell_type": "markdown",
   "metadata": {},
   "source": [
    "When comparing solely the average cost of a smoker versus a non-smoker, we can see that a smoker will pay on average $23,615.96 more in health insurance costs when compared to a non-smoker."
   ]
  },
  {
   "cell_type": "markdown",
   "metadata": {},
   "source": [
    "# Creating a Class"
   ]
  },
  {
   "cell_type": "code",
   "execution_count": 116,
   "metadata": {},
   "outputs": [],
   "source": [
    "class MedicalAnalyzer:\n",
    "    \n",
    "    def __init__(self, age_list, bmi_list, charges_list, region_list, smoker_list):\n",
    "        self.age_list = age_list\n",
    "        self.bmi_list = bmi_list\n",
    "        self.charges_list = charges_list\n",
    "        self.region_list = region_list\n",
    "        self.smoker_list = smoker_list\n",
    "    \n",
    "    def mean_age(self):\n",
    "        sum_ages = 0\n",
    "        for age in self.age_list:\n",
    "            sum_ages += int(age)\n",
    "        return sum_ages / len(self.age_list)\n",
    "    \n",
    "    def mean_bmi(self):\n",
    "        sum_bmi = 0\n",
    "        for bmi in self.bmi_list:\n",
    "            sum_bmi += float(bmi)\n",
    "        return sum_bmi / len(self.bmi_list)\n",
    "    \n",
    "    def mean_charges(self):\n",
    "        sum_charges = 0\n",
    "        for charge in self.charges_list:\n",
    "            sum_charges += float(charge)\n",
    "        return sum_charges/len(self.charges_list)\n",
    "    \n",
    "    def highest_region(self):\n",
    "        location_dict = {}\n",
    "        highest_location_count = 0\n",
    "        highest_location = \"\"\n",
    "        \n",
    "        for location in self.region_list:\n",
    "            if location not in location_dict.keys():\n",
    "                location_dict[location] = 1\n",
    "            else:\n",
    "                location_dict[location] += 1\n",
    "\n",
    "        for key,value in location_dict.items():\n",
    "            if value > highest_location_count:\n",
    "                highest_location_count = value\n",
    "                highest_location = key\n",
    "\n",
    "        return highest_location\n",
    "    \n",
    "    def smoker_diff(self):\n",
    "        smoker_cost = 0\n",
    "        smoker_count = 0\n",
    "        non_smoker_cost = 0\n",
    "        non_smoker_count = 0\n",
    "        for i in range(0, len(self.smoker_updated)):\n",
    "            if self.smoker_updated[i] == 'yes':\n",
    "                smoker_cost += float(charges_updated[i])\n",
    "                smoker_count += 1\n",
    "            elif self.smoker_updated[i] == 'no':\n",
    "                non_smoker_cost += float(charges_updated[i])\n",
    "                non_smoker_count += 1\n",
    "        avg_smoker_cost = round(smoker_cost/smoker_count, 2)\n",
    "        avg_nonsmoker_cost = round(non_smoker_cost/non_smoker_count, 2)\n",
    "        difference = avg_smoker_cost - avg_nonsmoker_cost\n",
    "        return difference        "
   ]
  },
  {
   "cell_type": "markdown",
   "metadata": {},
   "source": [
    "Testing out the class"
   ]
  },
  {
   "cell_type": "code",
   "execution_count": 117,
   "metadata": {},
   "outputs": [
    {
     "name": "stdout",
     "output_type": "stream",
     "text": [
      "39.20702541106129\n",
      "30.663396860986538\n",
      "southeast\n"
     ]
    }
   ],
   "source": [
    "#creating object\n",
    "\n",
    "analysis = MedicalAnalyzer(age_updated, bmi_updated, charges_updated, region_updated, smoker_updated)\n",
    "\n",
    "#Testing out if functions work\n",
    "\n",
    "#meanAge\n",
    "\n",
    "print(analysis.mean_age())\n",
    "print(analysis.mean_bmi())\n",
    "print(analysis.highest_region())"
   ]
  },
  {
   "cell_type": "markdown",
   "metadata": {},
   "source": [
    "The class works fine. Now one is able to create an object and will then input all of the corresponding lists. Then one is able to find exacmtly what they want from that object by calling out the functions within the object. I primarly used a lot of the code that was previously written though I just had to make sure that I addressed the object itself (in this case the object was mostly all of the lists that were previously created)."
   ]
  },
  {
   "cell_type": "markdown",
   "metadata": {},
   "source": [
    "# Potential Influential Features\n",
    "One of the most obvious features that has a greater impact on your health insurance is if you are a smoker. There are also other features that have an impact such as: "
   ]
  },
  {
   "cell_type": "code",
   "execution_count": 204,
   "metadata": {},
   "outputs": [
    {
     "data": {
      "image/png": "[encoded data removed]",
      "text/plain": [
       "<Figure size 432x288 with 1 Axes>"
      ]
     },
     "metadata": {
      "needs_background": "light"
     },
     "output_type": "display_data"
    }
   ],
   "source": [
    "import matplotlib.pyplot as plt\n",
    "\n",
    "def feature_costs_comparison(feature, charges_list):\n",
    "    feature_cost_list = []\n",
    "    for i in range(len(feature)):\n",
    "        dict = {feature[i]: charges_list[i]}\n",
    "        feature_cost_list.append(dict)\n",
    "    \n",
    "    #dictionary with feature_list and mean costs when organizing by that feature\n",
    "    feature_cost_dict = {}\n",
    "        \n",
    "    for index in feature_cost_list:\n",
    "        for key,value in index.items():\n",
    "            if key not in feature_cost_dict:\n",
    "                feature_cost_dict[key] = [float(value)]\n",
    "            elif key in feature_cost_dict:\n",
    "                feature_cost_dict[key].append(float(value))\n",
    "                \n",
    "    #Create dictionary with the key and then the mean costs for that corresponding key's value which is a list.\n",
    "    # I should be able to get the mean value from the lists\n",
    "    for key,value in feature_cost_dict.items():\n",
    "        feature_cost_dict[key]= round((sum((value)) / (len(value))), 2)\n",
    "    \n",
    "    return feature_cost_dict\n",
    "    \n",
    "data_graph = feature_costs_comparison(age_updated, charges_updated)\n",
    "\n",
    "# We create a graph to compare the feature and the mean charges for that feature\n",
    "\n",
    "features = data_graph.keys()\n",
    "charges = data_graph.values()\n",
    "\n",
    "plt.bar(range(len(data_graph)), charges, tick_label=features)\n",
    "plt.show()"
   ]
  },
  {
   "cell_type": "code",
   "execution_count": null,
   "metadata": {},
   "outputs": [],
   "source": []
  },
  {
   "cell_type": "code",
   "execution_count": null,
   "metadata": {},
   "outputs": [],
   "source": []
  }
 ],
 "metadata": {
  "kernelspec": {
   "display_name": "Python 3 (ipykernel)",
   "language": "python",
   "name": "python3"
  },
  "language_info": {
   "codemirror_mode": {
    "name": "ipython",
    "version": 3
   },
   "file_extension": ".py",
   "mimetype": "text/x-python",
   "name": "python",
   "nbconvert_exporter": "python",
   "pygments_lexer": "ipython3",
   "version": "3.8.12"
  }
 },
 "nbformat": 4,
 "nbformat_minor": 4
}
