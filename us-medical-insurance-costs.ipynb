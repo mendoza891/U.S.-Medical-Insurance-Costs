{
 "cells": [
  {
   "cell_type": "markdown",
   "metadata": {},
   "source": [
    "# U.S. Medical Insurance Costs"
   ]
  },
  {
   "cell_type": "markdown",
   "metadata": {},
   "source": [
    "# What to Analyze\n",
    "- Average age\n",
    "- Average BMI\n",
    "- Average Charges\n",
    "- Where the majority of individuals are from\n",
    "- Look at different costs between smoker vs non-smoker\n",
    "\n",
    "Things to include:\n",
    "- Goals\n",
    "- Data\n",
    "- Analysis"
   ]
  },
  {
   "cell_type": "markdown",
   "metadata": {},
   "source": [
    "# Goals\n",
    "\n",
    "The aim of this project is to find out the following information:\n",
    "- Average age\n",
    "- Average BMI\n",
    "- Average Charges\n",
    "- Where the majority of individuals are from\n",
    "- Look at different costs between smoker vs non-smoker"
   ]
  },
  {
   "cell_type": "markdown",
   "metadata": {},
   "source": [
    "# Importing Data & Creating Temporary Variables"
   ]
  },
  {
   "cell_type": "code",
   "execution_count": 46,
   "metadata": {},
   "outputs": [],
   "source": [
    "import csv\n",
    "import pandas\n",
    "\n",
    "age = []\n",
    "sex = []\n",
    "bmi = []\n",
    "children = []\n",
    "smoker = []\n",
    "region = []\n",
    "charges = []\n",
    "\n",
    "with open('insurance.csv') as insurance_data:\n",
    "    data = csv.reader(insurance_data, delimiter = \",\")\n",
    "    \n",
    "    for dataline in data:\n",
    "        age.append(dataline[0])\n",
    "        sex.append(dataline[1])\n",
    "        bmi.append(dataline[2])\n",
    "        children.append(dataline[3])\n",
    "        smoker.append(dataline[4])\n",
    "        region.append(dataline[5])\n",
    "        charges.append(dataline[6])"
   ]
  },
  {
   "cell_type": "markdown",
   "metadata": {},
   "source": [
    "# Data Variables"
   ]
  },
  {
   "cell_type": "markdown",
   "metadata": {},
   "source": [
    "We update the previous variables to not include the first entry which is the label for the column."
   ]
  },
  {
   "cell_type": "code",
   "execution_count": 47,
   "metadata": {
    "scrolled": true
   },
   "outputs": [],
   "source": [
    "age_updated = age[1:]\n",
    "sex_updated = sex[1:]\n",
    "bmi_updated = bmi[1:]\n",
    "children_updated = children[1:]\n",
    "smoker_updated = smoker[1:]\n",
    "region_updated = region[1:]\n",
    "charges_updated = charges[1:]"
   ]
  },
  {
   "cell_type": "markdown",
   "metadata": {},
   "source": [
    "# Average Age"
   ]
  },
  {
   "cell_type": "markdown",
   "metadata": {},
   "source": [
    "We first look into obtaining the general age of all data that was recorded."
   ]
  },
  {
   "cell_type": "code",
   "execution_count": 48,
   "metadata": {},
   "outputs": [
    {
     "name": "stdout",
     "output_type": "stream",
     "text": [
      "Mean Age is: 39.21 Years\n"
     ]
    }
   ],
   "source": [
    "#Created a function that will return the mean age from a list of ages\n",
    "def mean_finder(age_list):\n",
    "    sum_ages = 0\n",
    "    for age in age_list:\n",
    "        sum_ages += int(age)\n",
    "    return sum_ages / len(age_list)\n",
    "#We use function to find mean age for all participants\n",
    "\n",
    "mean_age = round(mean_finder(age_updated), 2)\n",
    "print(\"Mean Age is: \" + str(mean_age) + \" Years\")\n",
    "        "
   ]
  },
  {
   "cell_type": "markdown",
   "metadata": {},
   "source": [
    "# Average BMI\n",
    "We obtain the average BMI with a similar function as created to find mean age."
   ]
  },
  {
   "cell_type": "code",
   "execution_count": 49,
   "metadata": {},
   "outputs": [
    {
     "name": "stdout",
     "output_type": "stream",
     "text": [
      "Mean BMI is: 30.66\n"
     ]
    }
   ],
   "source": [
    "def mean_bmi_finder(bmi_list):\n",
    "    sum_bmi = 0\n",
    "    for bmi in bmi_list:\n",
    "        sum_bmi += float(bmi)\n",
    "    return sum_bmi / len(bmi_list)\n",
    "\n",
    "mean_bmi = round((mean_bmi_finder(bmi_updated)), 2)\n",
    "print(\"Mean BMI is: \" + str(mean_bmi))"
   ]
  },
  {
   "cell_type": "markdown",
   "metadata": {},
   "source": [
    "# Average Charges"
   ]
  },
  {
   "cell_type": "code",
   "execution_count": 51,
   "metadata": {},
   "outputs": [
    {
     "name": "stdout",
     "output_type": "stream",
     "text": [
      "Mean Charges is: $13270.42\n"
     ]
    }
   ],
   "source": [
    "def mean_charges_finder(charges_list):\n",
    "    sum_charges = 0\n",
    "    for charge in charges_list:\n",
    "        sum_charges += float(charge)\n",
    "    return sum_charges/len(charges_list)\n",
    "mean_charges = round(mean_charges_finder(charges_updated), 2)\n",
    "print(\"Mean Charges is: $\" + str(mean_charges))"
   ]
  },
  {
   "cell_type": "markdown",
   "metadata": {},
   "source": [
    "# Where are the Majority of Individuals From\n",
    "We create a function that will spit out the location where the majority of individuasl are from. The function will be coded where we are able to find out exactly the amount of individuals in each region."
   ]
  },
  {
   "cell_type": "code",
   "execution_count": 57,
   "metadata": {},
   "outputs": [
    {
     "name": "stdout",
     "output_type": "stream",
     "text": [
      "The majority of individuals are from: the southeast\n"
     ]
    }
   ],
   "source": [
    "def location_counter(location_list):\n",
    "    location_dict = {}\n",
    "    highest_location_count = 0\n",
    "    highest_location = \"\"\n",
    "    \n",
    "    \n",
    "    for location in location_list:\n",
    "        if location not in location_dict.keys():\n",
    "            location_dict[location] = 1\n",
    "        else:\n",
    "            location_dict[location] += 1\n",
    "    \n",
    "    for key,value in location_dict.items():\n",
    "        if value > highest_location_count:\n",
    "            highest_location_count = value\n",
    "            highest_location = key\n",
    "    \n",
    "    return highest_location\n",
    "            \n",
    "    \n",
    "    \n",
    "majority_region = location_counter(region_updated)\n",
    "print(\"The majority of individuals are from: the \" + majority_region)"
   ]
  },
  {
   "cell_type": "markdown",
   "metadata": {},
   "source": [
    "# Comparing Costs Between Smokers and Non-Smokers\n",
    "We will compare the average costs between an individual who is a smoker and an individual who is a non-smoker."
   ]
  },
  {
   "cell_type": "code",
   "execution_count": 59,
   "metadata": {},
   "outputs": [],
   "source": [
    "def smoker_status_coster():\n",
    "    pass\n",
    "#need to decide how if I want to create a dictionary with everyone's status and cost or do something else..."
   ]
  },
  {
   "cell_type": "code",
   "execution_count": null,
   "metadata": {},
   "outputs": [],
   "source": []
  }
 ],
 "metadata": {
  "kernelspec": {
   "display_name": "Python 3 (ipykernel)",
   "language": "python",
   "name": "python3"
  },
  "language_info": {
   "codemirror_mode": {
    "name": "ipython",
    "version": 3
   },
   "file_extension": ".py",
   "mimetype": "text/x-python",
   "name": "python",
   "nbconvert_exporter": "python",
   "pygments_lexer": "ipython3",
   "version": "3.8.12"
  }
 },
 "nbformat": 4,
 "nbformat_minor": 4
}
