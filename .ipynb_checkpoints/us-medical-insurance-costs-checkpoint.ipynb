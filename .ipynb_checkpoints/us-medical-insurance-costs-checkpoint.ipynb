{
 "cells": [
  {
   "cell_type": "markdown",
   "metadata": {},
   "source": [
    "# U.S. Medical Insurance Costs"
   ]
  },
  {
   "cell_type": "markdown",
   "metadata": {},
   "source": [
    "# What to Analyze\n",
    "- Average age\n",
    "- Average BMI\n",
    "- Average Charges\n",
    "- Where the majority of individuals are from\n",
    "- Look at different costs between smoker vs non-smoker\n",
    "\n",
    "Things to include:\n",
    "- Goals\n",
    "- Data\n",
    "- Analysis"
   ]
  },
  {
   "cell_type": "markdown",
   "metadata": {},
   "source": [
    "# Goals\n",
    "\n",
    "The aim of this project is to find out the following information:\n",
    "- Average age\n",
    "- Average BMI\n",
    "- Average Charges\n",
    "- Where the majority of individuals are from\n",
    "- Look at different costs between smoker vs non-smoker"
   ]
  },
  {
   "cell_type": "markdown",
   "metadata": {},
   "source": [
    "# Importing Data & Creating Temporary Variables"
   ]
  },
  {
   "cell_type": "code",
   "execution_count": 18,
   "metadata": {},
   "outputs": [
    {
     "name": "stdout",
     "output_type": "stream",
     "text": [
      "1339\n"
     ]
    }
   ],
   "source": [
    "import csv\n",
    "import pandas\n",
    "\n",
    "age = []\n",
    "sex = []\n",
    "bmi = []\n",
    "children = []\n",
    "smoker = []\n",
    "region = []\n",
    "charges = []\n",
    "\n",
    "with open('insurance.csv') as insurance_data:\n",
    "    data = csv.reader(insurance_data, delimiter = \",\")\n",
    "    \n",
    "    for dataline in data:\n",
    "        age.append(dataline[0])\n",
    "        sex.append(dataline[1])\n",
    "        bmi.append(dataline[2])\n",
    "        children.append(dataline[3])\n",
    "        smoker.append(dataline[4])\n",
    "        region.append(dataline[5])\n",
    "        charges.append(dataline[5])"
   ]
  },
  {
   "cell_type": "markdown",
   "metadata": {},
   "source": [
    "# Data Variables"
   ]
  },
  {
   "cell_type": "markdown",
   "metadata": {},
   "source": [
    "We update the previous variables to not include the first entry which is the label for the column."
   ]
  },
  {
   "cell_type": "code",
   "execution_count": 32,
   "metadata": {
    "scrolled": true
   },
   "outputs": [],
   "source": [
    "age_updated = age[1:]\n",
    "sex_updated = sex[1:]\n",
    "bmi_updated = bmi[1:]\n",
    "children_updated = children[1:]\n",
    "smoker_updated = smoker[1:]\n",
    "region_updated = region[1:]\n",
    "charges_updated = charges[1:]"
   ]
  },
  {
   "cell_type": "markdown",
   "metadata": {},
   "source": [
    "# Average Age"
   ]
  },
  {
   "cell_type": "markdown",
   "metadata": {},
   "source": [
    "We first look into obtaining the general age of all data that was recorded."
   ]
  },
  {
   "cell_type": "code",
   "execution_count": 30,
   "metadata": {},
   "outputs": [
    {
     "name": "stdout",
     "output_type": "stream",
     "text": [
      "Mean Age is: 39.21 Years\n"
     ]
    }
   ],
   "source": [
    "#Created a function that will return the mean age from a list of ages\n",
    "def mean_finder(age_list):\n",
    "    sum_ages = 0\n",
    "    for age in age_list:\n",
    "        sum_ages += int(age)\n",
    "    return sum_ages / len(age_list)\n",
    "#We use function to find mean age for all participants\n",
    "\n",
    "mean_age = round(mean_finder(age_updated), 2)\n",
    "print(\"Mean Age is: \" + str(mean_age) + \" Years\")\n",
    "        "
   ]
  },
  {
   "cell_type": "code",
   "execution_count": null,
   "metadata": {},
   "outputs": [],
   "source": []
  }
 ],
 "metadata": {
  "kernelspec": {
   "display_name": "Python 3 (ipykernel)",
   "language": "python",
   "name": "python3"
  },
  "language_info": {
   "codemirror_mode": {
    "name": "ipython",
    "version": 3
   },
   "file_extension": ".py",
   "mimetype": "text/x-python",
   "name": "python",
   "nbconvert_exporter": "python",
   "pygments_lexer": "ipython3",
   "version": "3.8.12"
  }
 },
 "nbformat": 4,
 "nbformat_minor": 4
}
